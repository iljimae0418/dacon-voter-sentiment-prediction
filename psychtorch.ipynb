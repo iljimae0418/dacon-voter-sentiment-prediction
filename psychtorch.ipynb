{
 "cells": [
  {
   "cell_type": "code",
   "execution_count": 3,
   "metadata": {},
   "outputs": [
    {
     "name": "stderr",
     "output_type": "stream",
     "text": [
      "01/05: 100%|██████████| 20/20 [00:24<00:00,  1.24s/it]\n",
      "02/05: 100%|██████████| 20/20 [00:24<00:00,  1.25s/it]\n",
      "03/05: 100%|██████████| 20/20 [00:25<00:00,  1.26s/it]\n",
      "04/05: 100%|██████████| 20/20 [00:25<00:00,  1.25s/it]\n",
      "05/05: 100%|██████████| 20/20 [00:24<00:00,  1.25s/it]\n"
     ]
    }
   ],
   "source": [
    "import random\n",
    "from datetime import datetime\n",
    "\n",
    "import numpy as np\n",
    "import pandas as pd\n",
    "import torch\n",
    "from torch import nn, optim\n",
    "from torch.utils.data import DataLoader\n",
    "from torch.utils.data import TensorDataset\n",
    "from tqdm import tqdm\n",
    "\n",
    "random.seed(0)\n",
    "np.random.seed(0)\n",
    "torch.manual_seed(0)\n",
    "torch.backends.cudnn.deterministic = True\n",
    "torch.backends.cudnn.benchmark = False\n",
    "\n",
    "DEVICE = 'cuda:0' if torch.cuda.is_available() else 'cpu'\n",
    "\n",
    "train_data = pd.read_csv('./storage/sentiment/train.csv').drop([379, 24598], axis=0)\n",
    "test_data = pd.read_csv('./storage/sentiment/test_x.csv')\n",
    "drop_list = ['QaE', 'QbE', 'QcE', 'QdE', 'QeE',\n",
    "             'QfE', 'QgE', 'QhE', 'QiE', 'QjE',\n",
    "             'QkE', 'QlE', 'QmE', 'QnE', 'QoE',\n",
    "             'QpE', 'QqE', 'QrE', 'QsE', 'QtE',\n",
    "             'index', 'hand']\n",
    "replace_dict = {'education': str, 'engnat': str, 'married': str, 'urban': str}\n",
    "train_y = train_data['voted']\n",
    "train_x = train_data.drop(drop_list + ['voted'], axis=1)\n",
    "test_x = test_data.drop(drop_list, axis=1)\n",
    "train_x = train_x.astype(replace_dict)\n",
    "test_x = test_x.astype(replace_dict)\n",
    "train_x = pd.get_dummies(train_x)\n",
    "test_x = pd.get_dummies(test_x)\n",
    "train_y = 2 - train_y.to_numpy()\n",
    "train_x = train_x.to_numpy()\n",
    "test_x = test_x.to_numpy()\n",
    "\n",
    "train_x[:, :20] = (train_x[:, :20] - 3.) / 2.\n",
    "test_x[:, :20] = (test_x[:, :20] - 3.) / 2\n",
    "train_x[:, 20] = (train_x[:, 20] - 5.) / 5.\n",
    "test_x[:, 20] = (test_x[:, 20] - 5.) / 5.\n",
    "train_x[:, 21:31] = (train_x[:, 21:31] - 3.5) / 3.5\n",
    "test_x[:, 21:31] = (test_x[:, 21:31] - 3.5) / 3.5\n",
    "train_y = torch.tensor(train_y, dtype=torch.float32)\n",
    "train_x = torch.tensor(train_x, dtype=torch.float32)\n",
    "test_x = torch.tensor(test_x, dtype=torch.float32)\n",
    "train_len, test_len = len(train_x), len(test_x)\n",
    "\n",
    "N_MODEL = 5\n",
    "N_EPOCH = 20\n",
    "BATCH_SIZE = 128\n",
    "LOADER_PARAM = {\n",
    "    'batch_size': BATCH_SIZE,\n",
    "    'num_workers': 4,\n",
    "    'pin_memory': True\n",
    "}\n",
    "prediction = np.zeros((11383, 1), dtype=np.float32)\n",
    "\n",
    "for no in range(N_MODEL):\n",
    "\n",
    "    train_loader = DataLoader(TensorDataset(train_x, train_y),\n",
    "                              shuffle=True, drop_last=True, **LOADER_PARAM)\n",
    "    test_loader = DataLoader(TensorDataset(test_x, torch.zeros((test_len,), dtype=torch.float32)),\n",
    "                             shuffle=False, drop_last=False, **LOADER_PARAM)\n",
    "    model = nn.Sequential(\n",
    "        nn.Dropout(0.05),\n",
    "        nn.Linear(91, 96, bias=False),\n",
    "        nn.LeakyReLU(0.05, inplace=True),\n",
    "        nn.Dropout(0.5),\n",
    "        nn.Linear(96, 36, bias=False),\n",
    "        nn.ReLU(inplace=True),\n",
    "        nn.Linear(36, 1)\n",
    "    ).to(DEVICE)\n",
    "    criterion = torch.nn.BCEWithLogitsLoss(pos_weight=torch.tensor([1.20665], device=DEVICE))\n",
    "    optimizer = optim.AdamW(model.parameters(), lr=1e-3, weight_decay=4e-2)\n",
    "    scheduler = optim.lr_scheduler.CosineAnnealingWarmRestarts(\n",
    "        optimizer, T_0=N_EPOCH // 4, eta_min=1.2e-5)\n",
    "\n",
    "    model.train()\n",
    "    for epoch in tqdm(range(N_EPOCH), desc='{:02d}/{:02d}'.format(no + 1, N_MODEL)):\n",
    "        for idx, (xx, yy) in enumerate(train_loader):\n",
    "            optimizer.zero_grad()\n",
    "            xx, yy = xx.to(DEVICE), yy.to(DEVICE)\n",
    "            pred = model(xx).squeeze()\n",
    "            loss = criterion(pred, yy)\n",
    "            loss.backward()\n",
    "            optimizer.step()\n",
    "            scheduler.step(epoch + idx / len(train_loader))\n",
    "\n",
    "    model.eval()\n",
    "    with torch.no_grad():\n",
    "        for idx, (xx, _) in enumerate(test_loader):\n",
    "            xx = xx.to(DEVICE)\n",
    "            pred = (2. - torch.sigmoid(model(xx).detach().to('cpu'))).numpy()\n",
    "            prediction[BATCH_SIZE * idx:min(BATCH_SIZE * (idx + 1), len(prediction)), :] \\\n",
    "                += pred[:, :] / N_MODEL\n",
    "\n",
    "df = pd.read_csv('./storage/sentiment/sample_submission.csv')\n",
    "df.iloc[:, 1:] = prediction\n",
    "df.to_csv('./storage/{}.csv'.format(datetime.now().strftime('%m%d-%H%M')), index=False)"
   ]
  },
  {
   "cell_type": "code",
   "execution_count": 2,
   "metadata": {},
   "outputs": [
    {
     "name": "stdout",
     "output_type": "stream",
     "text": [
      "Collecting tqdm\n",
      "\u001b[?25l  Downloading https://files.pythonhosted.org/packages/93/3a/96b3dc293aa72443cf9627444c3c221a7ba34bb622e4d8bf1b5d4f2d9d08/tqdm-4.51.0-py2.py3-none-any.whl (70kB)\n",
      "\u001b[K     |████████████████████████████████| 71kB 11.2MB/s eta 0:00:01\n",
      "\u001b[?25hInstalling collected packages: tqdm\n",
      "Successfully installed tqdm-4.51.0\n",
      "\u001b[33mWARNING: You are using pip version 19.2.1, however version 20.2.4 is available.\n",
      "You should consider upgrading via the 'pip install --upgrade pip' command.\u001b[0m\n",
      "Note: you may need to restart the kernel to use updated packages.\n"
     ]
    }
   ],
   "source": [
    "pip install tqdm"
   ]
  },
  {
   "cell_type": "code",
   "execution_count": null,
   "metadata": {},
   "outputs": [],
   "source": []
  }
 ],
 "metadata": {
  "kernelspec": {
   "display_name": "Python 3",
   "language": "python",
   "name": "python3"
  },
  "language_info": {
   "codemirror_mode": {
    "name": "ipython",
    "version": 3
   },
   "file_extension": ".py",
   "mimetype": "text/x-python",
   "name": "python",
   "nbconvert_exporter": "python",
   "pygments_lexer": "ipython3",
   "version": "3.6.8"
  }
 },
 "nbformat": 4,
 "nbformat_minor": 4
}
